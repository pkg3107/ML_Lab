{
 "cells": [
  {
   "cell_type": "code",
   "execution_count": 1,
   "id": "5ff58363",
   "metadata": {},
   "outputs": [],
   "source": [
    "import numpy as np"
   ]
  },
  {
   "cell_type": "code",
   "execution_count": 2,
   "id": "caa1b66c",
   "metadata": {},
   "outputs": [
    {
     "data": {
      "text/plain": [
       "array([[0, 1, 2],\n",
       "       [3, 4, 5],\n",
       "       [6, 7, 8]])"
      ]
     },
     "execution_count": 2,
     "metadata": {},
     "output_type": "execute_result"
    }
   ],
   "source": [
    "a=np.array([0, 1, 2, 3, 4, 5, 6, 7, 8]).reshape(3,3)\n",
    "\n",
    "a"
   ]
  },
  {
   "cell_type": "code",
   "execution_count": 3,
   "id": "b7a2528a",
   "metadata": {},
   "outputs": [
    {
     "data": {
      "text/plain": [
       "array([ 0, -1,  2, -1,  4, -1,  6, -1,  8, -1])"
      ]
     },
     "execution_count": 3,
     "metadata": {},
     "output_type": "execute_result"
    }
   ],
   "source": [
    "b=np.array([0, 1, 2, 3, 4, 5, 6, 7, 8, 9])\n",
    "for i in b:\n",
    "    if i%2!=0:\n",
    "        b[i]=-1\n",
    "\n",
    "b"
   ]
  },
  {
   "cell_type": "code",
   "execution_count": 4,
   "id": "4e28aa30",
   "metadata": {},
   "outputs": [
    {
     "name": "stdout",
     "output_type": "stream",
     "text": [
      "Indices where x>y: (array([1, 2, 4, 5, 6, 7, 8, 9]),)\n",
      "Indices where x=y: (array([0]),)\n"
     ]
    }
   ],
   "source": [
    "x = np.array([21, 64, 86, 22, 74, 55, 81, 79, 90, 89]) \n",
    "y = np.array([21, 7, 3, 45, 10, 29, 55, 4, 37, 18])\n",
    "\n",
    "a1=np.where(x>y)\n",
    "a2=np.where(x==y)\n",
    "        \n",
    "print(f\"Indices where x>y: {a1}\")\n",
    "print(f\"Indices where x=y: {a2}\")"
   ]
  },
  {
   "cell_type": "code",
   "execution_count": 5,
   "id": "fef1e9d6",
   "metadata": {},
   "outputs": [
    {
     "data": {
      "text/plain": [
       "array([[ 0,  1,  2,  3],\n",
       "       [20, 21, 22, 23],\n",
       "       [40, 41, 42, 43],\n",
       "       [60, 61, 62, 63],\n",
       "       [80, 81, 82, 83]])"
      ]
     },
     "execution_count": 5,
     "metadata": {},
     "output_type": "execute_result"
    }
   ],
   "source": [
    "c=np.arange(100).reshape(5,-1)\n",
    "\n",
    "c[:,:4]"
   ]
  },
  {
   "cell_type": "code",
   "execution_count": 6,
   "id": "2dad1ff3",
   "metadata": {},
   "outputs": [
    {
     "data": {
      "text/plain": [
       "array([33, 39, 32, 34, 37, 37, 34, 37, 32, 36])"
      ]
     },
     "execution_count": 6,
     "metadata": {},
     "output_type": "execute_result"
    }
   ],
   "source": [
    "d=np.random.randint(30, 40, 10)\n",
    "d"
   ]
  },
  {
   "cell_type": "code",
   "execution_count": 7,
   "id": "5007a760",
   "metadata": {},
   "outputs": [
    {
     "name": "stdout",
     "output_type": "stream",
     "text": [
      "Sum C: \n",
      "[[ 8 10 13]\n",
      " [ 8 10 12]\n",
      " [ 8 10 13]]\n",
      "Difference E: \n",
      "[[-6 -6 -7]\n",
      " [ 0  0  0]\n",
      " [ 6  6  7]]\n",
      "\n",
      "Sum of all elements of A: 46\n",
      "Column sum of B: [12 15 19]\n",
      "Row sum of C: [31 30 31]\n",
      "\n",
      "Product of A and B: D= \n",
      "[[ 18  24  31]\n",
      " [ 54  69  88]\n",
      " [ 91 116 148]]\n",
      "\n",
      "Sorted elements of C: \n",
      "[[ 8 10 13]\n",
      " [ 8 10 12]\n",
      " [ 8 10 13]]\n",
      "\n",
      "Tranpose of E is: \n",
      "[[-6  0  6]\n",
      " [-6  0  6]\n",
      " [-7  0  7]]\n"
     ]
    }
   ],
   "source": [
    "A=[[1,2,3],\n",
    "  [4,5,6],\n",
    "  [7,8,10]]\n",
    "\n",
    "B=[[7,8,10],\n",
    "   [4,5,6],\n",
    "   [1,2,3]]\n",
    "\n",
    "\n",
    "C=np.array(A)+ np.array(B)\n",
    "E=np.array(A)- np.array(B)\n",
    "\n",
    "print(f\"Sum C: \\n{C}\")\n",
    "print(f\"Difference E: \\n{E}\")\n",
    "\n",
    "print(f\"\\nSum of all elements of A: {np.sum(A)}\")\n",
    "print(f\"Column sum of B: {np.sum(B,0)}\")\n",
    "print(f\"Row sum of C: {np.sum(C,1)}\")\n",
    "\n",
    "D=np.matmul(A, B)\n",
    "print(f\"\\nProduct of A and B: D= \\n{D}\")\n",
    "\n",
    "print(f\"\\nSorted elements of C: \\n{np.sort(C)}\")\n",
    "\n",
    "print(f\"\\nTranpose of E is: \\n{E.T}\")"
   ]
  },
  {
   "cell_type": "code",
   "execution_count": null,
   "id": "96937b92",
   "metadata": {},
   "outputs": [],
   "source": []
  }
 ],
 "metadata": {
  "kernelspec": {
   "display_name": "Python 3 (ipykernel)",
   "language": "python",
   "name": "python3"
  },
  "language_info": {
   "codemirror_mode": {
    "name": "ipython",
    "version": 3
   },
   "file_extension": ".py",
   "mimetype": "text/x-python",
   "name": "python",
   "nbconvert_exporter": "python",
   "pygments_lexer": "ipython3",
   "version": "3.12.3"
  }
 },
 "nbformat": 4,
 "nbformat_minor": 5
}
